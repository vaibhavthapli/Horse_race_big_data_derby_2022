{
 "cells": [
  {
   "cell_type": "code",
   "id": "initial_id",
   "metadata": {
    "collapsed": true,
    "ExecuteTime": {
     "end_time": "2025-01-15T12:28:30.163295Z",
     "start_time": "2025-01-15T12:28:29.365005Z"
    }
   },
   "source": [
    "import pandas as pd\n",
    "import numpy as np\n",
    "from ydata_profiling import ProfileReport\n",
    "import matplotlib.pyplot as plt\n",
    "import seaborn as sns\n",
    "%matplotlib inline\n",
    "import warnings\n",
    "warnings.filterwarnings(\"ignore\")"
   ],
   "outputs": [],
   "execution_count": 1
  },
  {
   "metadata": {},
   "cell_type": "markdown",
   "source": "In Data_Transformation we always do EDA and Feature engineering on Train Data from now on we only focus on train data we never see test data until our model is ready",
   "id": "1b1e2fc001bf18d0"
  },
  {
   "metadata": {
    "ExecuteTime": {
     "end_time": "2025-01-15T12:28:38.922143Z",
     "start_time": "2025-01-15T12:28:38.509855Z"
    }
   },
   "cell_type": "code",
   "source": "df = pd.read_csv(\"data/train.csv\")",
   "id": "eb14097c0b5894e3",
   "outputs": [],
   "execution_count": 2
  },
  {
   "metadata": {
    "ExecuteTime": {
     "end_time": "2025-01-15T12:28:39.848427Z",
     "start_time": "2025-01-15T12:28:39.843615Z"
    }
   },
   "cell_type": "code",
   "source": "df.shape",
   "id": "78694de887b95af8",
   "outputs": [
    {
     "data": {
      "text/plain": [
       "(22324, 30)"
      ]
     },
     "execution_count": 3,
     "metadata": {},
     "output_type": "execute_result"
    }
   ],
   "execution_count": 3
  },
  {
   "metadata": {
    "ExecuteTime": {
     "end_time": "2025-01-15T12:28:42.300485Z",
     "start_time": "2025-01-15T12:28:42.270574Z"
    }
   },
   "cell_type": "code",
   "source": "df.info()",
   "id": "455beeda067bb31e",
   "outputs": [
    {
     "name": "stdout",
     "output_type": "stream",
     "text": [
      "<class 'pandas.core.frame.DataFrame'>\n",
      "RangeIndex: 22324 entries, 0 to 22323\n",
      "Data columns (total 30 columns):\n",
      " #   Column                 Non-Null Count  Dtype  \n",
      "---  ------                 --------------  -----  \n",
      " 0   finishing_position     22324 non-null  object \n",
      " 1   horse_number           22313 non-null  float64\n",
      " 2   horse_name             22324 non-null  object \n",
      " 3   horse_id               22324 non-null  object \n",
      " 4   jockey                 22324 non-null  object \n",
      " 5   trainer                22324 non-null  object \n",
      " 6   actual_weight          22324 non-null  int64  \n",
      " 7   declared_horse_weight  22324 non-null  object \n",
      " 8   draw                   22324 non-null  object \n",
      " 9   length_behind_winner   20426 non-null  object \n",
      " 10  running_position_1     22306 non-null  float64\n",
      " 11  running_position_2     22306 non-null  float64\n",
      " 12  running_position_3     22306 non-null  float64\n",
      " 13  running_position_4     12267 non-null  float64\n",
      " 14  finish_time            22324 non-null  object \n",
      " 15  win_odds               22324 non-null  object \n",
      " 16  running_position_5     2803 non-null   float64\n",
      " 17  running_position_6     424 non-null    float64\n",
      " 18  race_id                22324 non-null  object \n",
      " 19  src                    22324 non-null  object \n",
      " 20  race_date              22324 non-null  object \n",
      " 21  race_course            22324 non-null  object \n",
      " 22  race_number            22324 non-null  int64  \n",
      " 23  race_class             22324 non-null  object \n",
      " 24  race_distance          22324 non-null  int64  \n",
      " 25  track_condition        22324 non-null  object \n",
      " 26  race_name              22324 non-null  object \n",
      " 27  track                  22324 non-null  object \n",
      " 28  sectional_time         22324 non-null  object \n",
      " 29  incident_report        22324 non-null  object \n",
      "dtypes: float64(7), int64(3), object(20)\n",
      "memory usage: 5.1+ MB\n"
     ]
    }
   ],
   "execution_count": 4
  },
  {
   "metadata": {},
   "cell_type": "markdown",
   "source": "Analysis",
   "id": "fba9307d97d35b50"
  },
  {
   "metadata": {},
   "cell_type": "markdown",
   "source": "Use panda profiling for EDA",
   "id": "b4407aff8d9022d4"
  },
  {
   "metadata": {
    "ExecuteTime": {
     "end_time": "2025-01-15T12:29:21.599361Z",
     "start_time": "2025-01-15T12:28:49.241726Z"
    }
   },
   "cell_type": "code",
   "source": [
    "\n",
    "\n",
    "# Assuming `df` is your pandas DataFrame\n",
    "profile = ProfileReport(df, title=\"Profiling Report\")\n",
    "profile.to_file(\"Analysis_report.html\")"
   ],
   "id": "78eab3f83bf5dee3",
   "outputs": [
    {
     "data": {
      "text/plain": [
       "Summarize dataset:   0%|          | 0/5 [00:00<?, ?it/s]"
      ],
      "application/vnd.jupyter.widget-view+json": {
       "version_major": 2,
       "version_minor": 0,
       "model_id": "efada22dd4654da28a8fd6c7c2d5bd29"
      }
     },
     "metadata": {},
     "output_type": "display_data"
    },
    {
     "data": {
      "text/plain": [
       "Generate report structure:   0%|          | 0/1 [00:00<?, ?it/s]"
      ],
      "application/vnd.jupyter.widget-view+json": {
       "version_major": 2,
       "version_minor": 0,
       "model_id": "08b7ffe0b3174eae918d485a0fb571f1"
      }
     },
     "metadata": {},
     "output_type": "display_data"
    },
    {
     "data": {
      "text/plain": [
       "Render HTML:   0%|          | 0/1 [00:00<?, ?it/s]"
      ],
      "application/vnd.jupyter.widget-view+json": {
       "version_major": 2,
       "version_minor": 0,
       "model_id": "ce5088b6ff864d29b1f5637ef19ea4fb"
      }
     },
     "metadata": {},
     "output_type": "display_data"
    },
    {
     "data": {
      "text/plain": [
       "Export report to file:   0%|          | 0/1 [00:00<?, ?it/s]"
      ],
      "application/vnd.jupyter.widget-view+json": {
       "version_major": 2,
       "version_minor": 0,
       "model_id": "fcdeee4e2e3c487ead3bcd24d9d627ff"
      }
     },
     "metadata": {},
     "output_type": "display_data"
    }
   ],
   "execution_count": 5
  },
  {
   "metadata": {
    "ExecuteTime": {
     "end_time": "2025-01-15T12:29:23.770944Z",
     "start_time": "2025-01-15T12:29:23.743250Z"
    }
   },
   "cell_type": "code",
   "source": [
    "print(\"Number of Horses\", df.horse_name.nunique())\n",
    "print(\"Number of Horses_id\", df.horse_id.nunique())\n",
    "print(\"Number of jockeys\", df.jockey.nunique())\n",
    "print(\"Number of trainer\", df.trainer.nunique())"
   ],
   "id": "cbbae9eec9d935eb",
   "outputs": [
    {
     "name": "stdout",
     "output_type": "stream",
     "text": [
      "Number of Horses 2156\n",
      "Number of Horses_id 2156\n",
      "Number of jockeys 105\n",
      "Number of trainer 95\n"
     ]
    }
   ],
   "execution_count": 6
  },
  {
   "metadata": {
    "ExecuteTime": {
     "end_time": "2025-01-15T12:30:21.691173Z",
     "start_time": "2025-01-15T12:30:21.642285Z"
    }
   },
   "cell_type": "code",
   "source": "df = df[df['finishing_position'].isin([str(i) for i in range(1, 13)])].reset_index(drop=True)",
   "id": "2bb980d8dc14d4c3",
   "outputs": [],
   "execution_count": 8
  },
  {
   "metadata": {
    "ExecuteTime": {
     "end_time": "2025-01-15T12:30:22.936264Z",
     "start_time": "2025-01-15T12:30:22.920854Z"
    }
   },
   "cell_type": "code",
   "source": "df.finishing_position.unique()",
   "id": "391fc02a9de82ca4",
   "outputs": [
    {
     "data": {
      "text/plain": [
       "array(['3', '12', '7', '10', '9', '8', '2', '1', '5', '11', '4', '6'],\n",
       "      dtype=object)"
      ]
     },
     "execution_count": 9,
     "metadata": {},
     "output_type": "execute_result"
    }
   ],
   "execution_count": 9
  },
  {
   "metadata": {},
   "cell_type": "markdown",
   "source": "open Analysis_report.html",
   "id": "a14b9931eb61c219"
  },
  {
   "metadata": {},
   "cell_type": "markdown",
   "source": "Feature Engineering",
   "id": "c15563eaaca9e261"
  },
  {
   "metadata": {
    "ExecuteTime": {
     "end_time": "2025-01-15T12:32:18.094379Z",
     "start_time": "2025-01-15T12:30:32.138254Z"
    }
   },
   "cell_type": "code",
   "source": [
    "def recent_rank(data):\n",
    "    # Add a column named recent_6_runs to the dataframe, which records the recent ranks of the horse in each entry.\n",
    "# The ranks are separated by “/”, and a record is like 1/2/6/3/4/7.    This column concatenates the last 6 (or fewer) finishing positions of the horse for each row, separated by /.\n",
    "\n",
    "# Add a column named recent_ave_rank for each entry to the dataframe,\n",
    "# This column calculates the average of the recent finishing positions (up to the last 6 races) for each horse.\n",
    "\n",
    "    df['recent_6_runs'] = '0'\n",
    "    df['recent_ave_rank'] = np.nan\n",
    "\n",
    "    for i in range(len(df['finishing_position'])):\n",
    "\n",
    "        # temp will just give a list of all the finishing positions of that particular horse\n",
    "        temp = df[ : (i + 1)][df.horse_id == df.horse_id[i]][['finishing_position']]\n",
    "\n",
    "        # we convert temp into a list, in reverse order, with the last race in front\n",
    "        temp = temp['finishing_position'].values.tolist()[::-1]\n",
    "\n",
    "        # we then take the first 6 elements of the list, and join them with a '/'\n",
    "        df['recent_6_runs'][i] = '/'.join(temp[:6])\n",
    "\n",
    "        # if list is not empty, then we convert string to float and take the average to get the recent_ave_rank\n",
    "        if len(temp) != 0:\n",
    "            temp_int = map(int,temp)\n",
    "            temp_ave = np.mean(list(temp_int))\n",
    "            df['recent_ave_rank'][i] = temp_ave\n",
    "recent_rank(df)"
   ],
   "id": "e07d4cd9d2057015",
   "outputs": [],
   "execution_count": 10
  },
  {
   "metadata": {
    "ExecuteTime": {
     "end_time": "2025-01-15T12:32:36.088924Z",
     "start_time": "2025-01-15T12:32:36.075031Z"
    }
   },
   "cell_type": "code",
   "source": "df.columns",
   "id": "5bfa3da6754fdd0b",
   "outputs": [
    {
     "data": {
      "text/plain": [
       "Index(['finishing_position', 'horse_number', 'horse_name', 'horse_id',\n",
       "       'jockey', 'trainer', 'actual_weight', 'declared_horse_weight', 'draw',\n",
       "       'length_behind_winner', 'running_position_1', 'running_position_2',\n",
       "       'running_position_3', 'running_position_4', 'finish_time', 'win_odds',\n",
       "       'running_position_5', 'running_position_6', 'race_id', 'src',\n",
       "       'race_date', 'race_course', 'race_number', 'race_class',\n",
       "       'race_distance', 'track_condition', 'race_name', 'track',\n",
       "       'sectional_time', 'incident_report', 'recent_6_runs',\n",
       "       'recent_ave_rank'],\n",
       "      dtype='object')"
      ]
     },
     "execution_count": 11,
     "metadata": {},
     "output_type": "execute_result"
    }
   ],
   "execution_count": 11
  },
  {
   "metadata": {},
   "cell_type": "markdown",
   "source": "Now working on categorical data",
   "id": "493dc7baa1bc94dd"
  },
  {
   "metadata": {
    "ExecuteTime": {
     "end_time": "2025-01-15T12:32:45.755720Z",
     "start_time": "2025-01-15T12:32:45.717363Z"
    }
   },
   "cell_type": "code",
   "source": [
    "# Convert 'race_date' to datetime\n",
    "df['race_date'] = pd.to_datetime(df['race_date'])"
   ],
   "id": "c74ee0805635abfd",
   "outputs": [],
   "execution_count": 12
  },
  {
   "metadata": {
    "ExecuteTime": {
     "end_time": "2025-01-15T12:32:46.834635Z",
     "start_time": "2025-01-15T12:32:46.809714Z"
    }
   },
   "cell_type": "code",
   "source": "df['declared_horse_weight'] = df['declared_horse_weight'].astype(int)",
   "id": "5d05e8b4902b522",
   "outputs": [],
   "execution_count": 13
  },
  {
   "metadata": {
    "ExecuteTime": {
     "end_time": "2025-01-15T12:32:48.982636Z",
     "start_time": "2025-01-15T12:32:48.887539Z"
    }
   },
   "cell_type": "code",
   "source": [
    "#create new column season with the help of race date so we can find out on which season which horse do well. We have 4 seasons in asia.\n",
    "def determine_hk_season(date):\n",
    "    month = date.month\n",
    "    if month in [12, 1, 2]:\n",
    "        return 'Winter'\n",
    "    elif month in [3, 4, 5]:\n",
    "        return 'Spring'\n",
    "    elif month in [6, 7, 8]:\n",
    "        return 'Summer'\n",
    "    else:  # [9, 10, 11]\n",
    "        return 'Autumn'\n",
    "\n",
    "df['Season'] = df['race_date'].apply(determine_hk_season)"
   ],
   "id": "b52775b25ac6a23",
   "outputs": [],
   "execution_count": 14
  },
  {
   "metadata": {
    "ExecuteTime": {
     "end_time": "2025-01-15T12:32:50.732469Z",
     "start_time": "2025-01-15T12:32:50.719533Z"
    }
   },
   "cell_type": "code",
   "source": "df.columns",
   "id": "df01559be5fa2fba",
   "outputs": [
    {
     "data": {
      "text/plain": [
       "Index(['finishing_position', 'horse_number', 'horse_name', 'horse_id',\n",
       "       'jockey', 'trainer', 'actual_weight', 'declared_horse_weight', 'draw',\n",
       "       'length_behind_winner', 'running_position_1', 'running_position_2',\n",
       "       'running_position_3', 'running_position_4', 'finish_time', 'win_odds',\n",
       "       'running_position_5', 'running_position_6', 'race_id', 'src',\n",
       "       'race_date', 'race_course', 'race_number', 'race_class',\n",
       "       'race_distance', 'track_condition', 'race_name', 'track',\n",
       "       'sectional_time', 'incident_report', 'recent_6_runs', 'recent_ave_rank',\n",
       "       'Season'],\n",
       "      dtype='object')"
      ]
     },
     "execution_count": 15,
     "metadata": {},
     "output_type": "execute_result"
    }
   ],
   "execution_count": 15
  },
  {
   "metadata": {
    "ExecuteTime": {
     "end_time": "2025-01-15T12:33:02.056346Z",
     "start_time": "2025-01-15T12:33:00.569168Z"
    }
   },
   "cell_type": "code",
   "source": [
    "# jockey_ave_rank: records the average rank of the jockey\n",
    "# trainer_ave_rank: records the average rank of the trainer\n",
    "\n",
    "def cal_ave_rank(data):\n",
    "    df['jockey_ave_rank'] = '0'\n",
    "    jockeys = df['jockey'].unique()\n",
    "    for i in range(len(jockeys)):\n",
    "        temp = df[df.jockey == jockeys[i]][['finishing_position']]\n",
    "        temp = temp['finishing_position'].values.tolist()\n",
    "        if len(temp) != 0:\n",
    "            temp_int = map(int, temp)\n",
    "            temp_ave = np.mean(list(temp_int))\n",
    "            df['jockey_ave_rank'][df.jockey == jockeys[i]] = temp_ave\n",
    "\n",
    "\n",
    "    df['trainer_ave_rank'] = '0'\n",
    "    trainers = df['trainer'].unique()\n",
    "    for i in range(len(trainers)):\n",
    "        temp = df[df.trainer == trainers[i]][['finishing_position']]\n",
    "        temp = temp['finishing_position'].values.tolist()\n",
    "        if len(temp) != 0:\n",
    "            temp_int = map(int,temp)\n",
    "            temp_ave = np.mean(list(temp_int))\n",
    "            df['trainer_ave_rank'][df.trainer == trainers[i]] = temp_ave\n",
    "cal_ave_rank(df)"
   ],
   "id": "b0d8c60db5b8c2e",
   "outputs": [],
   "execution_count": 16
  },
  {
   "metadata": {
    "ExecuteTime": {
     "end_time": "2025-01-15T12:33:02.941151Z",
     "start_time": "2025-01-15T12:33:02.928729Z"
    }
   },
   "cell_type": "code",
   "source": "df.columns",
   "id": "e792a66aeaa039d7",
   "outputs": [
    {
     "data": {
      "text/plain": [
       "Index(['finishing_position', 'horse_number', 'horse_name', 'horse_id',\n",
       "       'jockey', 'trainer', 'actual_weight', 'declared_horse_weight', 'draw',\n",
       "       'length_behind_winner', 'running_position_1', 'running_position_2',\n",
       "       'running_position_3', 'running_position_4', 'finish_time', 'win_odds',\n",
       "       'running_position_5', 'running_position_6', 'race_id', 'src',\n",
       "       'race_date', 'race_course', 'race_number', 'race_class',\n",
       "       'race_distance', 'track_condition', 'race_name', 'track',\n",
       "       'sectional_time', 'incident_report', 'recent_6_runs', 'recent_ave_rank',\n",
       "       'Season', 'jockey_ave_rank', 'trainer_ave_rank'],\n",
       "      dtype='object')"
      ]
     },
     "execution_count": 17,
     "metadata": {},
     "output_type": "execute_result"
    }
   ],
   "execution_count": 17
  },
  {
   "metadata": {},
   "cell_type": "markdown",
   "source": "Working on more categorical data",
   "id": "8fa5eba20ccb818c"
  },
  {
   "metadata": {
    "ExecuteTime": {
     "end_time": "2025-01-15T12:33:34.453512Z",
     "start_time": "2025-01-15T12:33:34.400636Z"
    }
   },
   "cell_type": "code",
   "source": [
    "def map_columns(data):\n",
    "    \"\"\"\n",
    "    Maps categorical columns in a DataFrame to unique numeric IDs based on predefined mappings.\n",
    "\n",
    "    Parameters:\n",
    "    df (pd.DataFrame): The input DataFrame containing columns to map.\n",
    "\n",
    "    Returns:\n",
    "    pd.DataFrame: A DataFrame with additional columns for mapped IDs.\n",
    "    \"\"\"\n",
    "    # Define the mappings\n",
    "    race_course_mapping = {\n",
    "        'Sha Tin': 0,\n",
    "        'Happy Valley': 1\n",
    "    }\n",
    "\n",
    "    track_mapping = {\n",
    "        'TURF - \"A\" COURSE': 1,\n",
    "        'TURF - \"C\" COURSE': 2,\n",
    "        'TURF - \"C+3\" COURSE': 3,\n",
    "        'TURF - \"B\" COURSE': 4,\n",
    "        'ALL WEATHER TRACK': 5,\n",
    "        'TURF - \"B+2\" COURSE': 6,\n",
    "        'TURF - \"A+3\" COURSE': 7\n",
    "    }\n",
    "\n",
    "    season_mapping = {\n",
    "        'Spring': 1,\n",
    "        'Winter': 2,\n",
    "        'Autumn': 3,\n",
    "        'Summer': 4\n",
    "    }\n",
    "\n",
    "    track_condition_mapping = {\n",
    "    'GOOD': 1,\n",
    "    'GOOD TO FIRM': 2,\n",
    "    'GOOD TO YIELDING': 3,\n",
    "    'YIELDING': 4,\n",
    "    'WET SLOW': 5,\n",
    "    'FAST': 6,\n",
    "    'WET FAST': 7,\n",
    "    'YIELDING TO SOFT': 8,\n",
    "    'SOFT': 9\n",
    "    }\n",
    "\n",
    "    # Apply the mappings\n",
    "    df['race_course_id'] = df['race_course'].map(race_course_mapping)\n",
    "    df['track_id'] = df['track'].map(track_mapping)\n",
    "    df['season_id'] = df['Season'].map(season_mapping)\n",
    "    df['track_condition_id'] = df['track_condition'].map(track_condition_mapping)\n",
    "\n",
    "map_columns(df)\n"
   ],
   "id": "85b4e9a1ce41fab9",
   "outputs": [],
   "execution_count": 19
  },
  {
   "metadata": {
    "ExecuteTime": {
     "end_time": "2025-01-15T12:33:35.697936Z",
     "start_time": "2025-01-15T12:33:35.683013Z"
    }
   },
   "cell_type": "code",
   "source": "df.columns",
   "id": "10cebb4a40f142e0",
   "outputs": [
    {
     "data": {
      "text/plain": [
       "Index(['finishing_position', 'horse_number', 'horse_name', 'horse_id',\n",
       "       'jockey', 'trainer', 'actual_weight', 'declared_horse_weight', 'draw',\n",
       "       'length_behind_winner', 'running_position_1', 'running_position_2',\n",
       "       'running_position_3', 'running_position_4', 'finish_time', 'win_odds',\n",
       "       'running_position_5', 'running_position_6', 'race_id', 'src',\n",
       "       'race_date', 'race_course', 'race_number', 'race_class',\n",
       "       'race_distance', 'track_condition', 'race_name', 'track',\n",
       "       'sectional_time', 'incident_report', 'recent_6_runs', 'recent_ave_rank',\n",
       "       'Season', 'jockey_ave_rank', 'trainer_ave_rank', 'race_course_id',\n",
       "       'track_id', 'season_id', 'track_condition_id'],\n",
       "      dtype='object')"
      ]
     },
     "execution_count": 20,
     "metadata": {},
     "output_type": "execute_result"
    }
   ],
   "execution_count": 20
  },
  {
   "metadata": {
    "ExecuteTime": {
     "end_time": "2025-01-15T12:33:44.253647Z",
     "start_time": "2025-01-15T12:33:44.220756Z"
    }
   },
   "cell_type": "code",
   "source": "df.head()",
   "id": "c13cf7c5a5fe1140",
   "outputs": [
    {
     "data": {
      "text/plain": [
       "  finishing_position  horse_number       horse_name horse_id     jockey  \\\n",
       "0                  3          12.0  CAREFREE LET GO     T059  M L Yeung   \n",
       "1                  3           1.0    VERY RICH MAN     V286  U Rispoli   \n",
       "2                 12           4.0   FANTASTIC KAKA     P363  B Prebble   \n",
       "3                  7           6.0    VICTORY MAGIC     T272  J Moreira   \n",
       "4                 10           4.0   EXCITING DREAM     P191   H Bowman   \n",
       "\n",
       "    trainer  actual_weight  declared_horse_weight draw length_behind_winner  \\\n",
       "0  C S Shum            112                   1060    2                    2   \n",
       "1    T K Ng            133                   1057    9                  3/4   \n",
       "2      L Ho            125                   1125    1                7-1/4   \n",
       "3   J Moore            122                   1154    1                3-1/2   \n",
       "4   J Moore            127                   1079    1                4-3/4   \n",
       "\n",
       "   ...                                    incident_report  recent_6_runs  \\\n",
       "0  ...  \\n                After beginning awkwardly an...              3   \n",
       "1  ...  \\n                KWAICHUNG BROTHERS was slow ...              3   \n",
       "2  ...  \\n                PHOTON WILLIE was crowded fo...             12   \n",
       "3  ...  \\n                DEEP THINKER was checked whe...              7   \n",
       "4  ...  \\n                DIVINE CALLING was withdrawn...             10   \n",
       "\n",
       "   recent_ave_rank  Season jockey_ave_rank trainer_ave_rank  race_course_id  \\\n",
       "0              3.0  Autumn        6.978346         6.160865               0   \n",
       "1              3.0  Winter        6.046036         7.483495               1   \n",
       "2             12.0  Winter        5.819498         6.628495               0   \n",
       "3              7.0  Spring         4.04498         5.861614               0   \n",
       "4             10.0  Winter        5.316456         5.861614               0   \n",
       "\n",
       "   track_id season_id track_condition_id  \n",
       "0         7         3                  1  \n",
       "1         3         2                  2  \n",
       "2         1         2                  1  \n",
       "3         3         1                  4  \n",
       "4         1         2                  1  \n",
       "\n",
       "[5 rows x 39 columns]"
      ],
      "text/html": [
       "<div>\n",
       "<style scoped>\n",
       "    .dataframe tbody tr th:only-of-type {\n",
       "        vertical-align: middle;\n",
       "    }\n",
       "\n",
       "    .dataframe tbody tr th {\n",
       "        vertical-align: top;\n",
       "    }\n",
       "\n",
       "    .dataframe thead th {\n",
       "        text-align: right;\n",
       "    }\n",
       "</style>\n",
       "<table border=\"1\" class=\"dataframe\">\n",
       "  <thead>\n",
       "    <tr style=\"text-align: right;\">\n",
       "      <th></th>\n",
       "      <th>finishing_position</th>\n",
       "      <th>horse_number</th>\n",
       "      <th>horse_name</th>\n",
       "      <th>horse_id</th>\n",
       "      <th>jockey</th>\n",
       "      <th>trainer</th>\n",
       "      <th>actual_weight</th>\n",
       "      <th>declared_horse_weight</th>\n",
       "      <th>draw</th>\n",
       "      <th>length_behind_winner</th>\n",
       "      <th>...</th>\n",
       "      <th>incident_report</th>\n",
       "      <th>recent_6_runs</th>\n",
       "      <th>recent_ave_rank</th>\n",
       "      <th>Season</th>\n",
       "      <th>jockey_ave_rank</th>\n",
       "      <th>trainer_ave_rank</th>\n",
       "      <th>race_course_id</th>\n",
       "      <th>track_id</th>\n",
       "      <th>season_id</th>\n",
       "      <th>track_condition_id</th>\n",
       "    </tr>\n",
       "  </thead>\n",
       "  <tbody>\n",
       "    <tr>\n",
       "      <th>0</th>\n",
       "      <td>3</td>\n",
       "      <td>12.0</td>\n",
       "      <td>CAREFREE LET GO</td>\n",
       "      <td>T059</td>\n",
       "      <td>M L Yeung</td>\n",
       "      <td>C S Shum</td>\n",
       "      <td>112</td>\n",
       "      <td>1060</td>\n",
       "      <td>2</td>\n",
       "      <td>2</td>\n",
       "      <td>...</td>\n",
       "      <td>\\n                After beginning awkwardly an...</td>\n",
       "      <td>3</td>\n",
       "      <td>3.0</td>\n",
       "      <td>Autumn</td>\n",
       "      <td>6.978346</td>\n",
       "      <td>6.160865</td>\n",
       "      <td>0</td>\n",
       "      <td>7</td>\n",
       "      <td>3</td>\n",
       "      <td>1</td>\n",
       "    </tr>\n",
       "    <tr>\n",
       "      <th>1</th>\n",
       "      <td>3</td>\n",
       "      <td>1.0</td>\n",
       "      <td>VERY RICH MAN</td>\n",
       "      <td>V286</td>\n",
       "      <td>U Rispoli</td>\n",
       "      <td>T K Ng</td>\n",
       "      <td>133</td>\n",
       "      <td>1057</td>\n",
       "      <td>9</td>\n",
       "      <td>3/4</td>\n",
       "      <td>...</td>\n",
       "      <td>\\n                KWAICHUNG BROTHERS was slow ...</td>\n",
       "      <td>3</td>\n",
       "      <td>3.0</td>\n",
       "      <td>Winter</td>\n",
       "      <td>6.046036</td>\n",
       "      <td>7.483495</td>\n",
       "      <td>1</td>\n",
       "      <td>3</td>\n",
       "      <td>2</td>\n",
       "      <td>2</td>\n",
       "    </tr>\n",
       "    <tr>\n",
       "      <th>2</th>\n",
       "      <td>12</td>\n",
       "      <td>4.0</td>\n",
       "      <td>FANTASTIC KAKA</td>\n",
       "      <td>P363</td>\n",
       "      <td>B Prebble</td>\n",
       "      <td>L Ho</td>\n",
       "      <td>125</td>\n",
       "      <td>1125</td>\n",
       "      <td>1</td>\n",
       "      <td>7-1/4</td>\n",
       "      <td>...</td>\n",
       "      <td>\\n                PHOTON WILLIE was crowded fo...</td>\n",
       "      <td>12</td>\n",
       "      <td>12.0</td>\n",
       "      <td>Winter</td>\n",
       "      <td>5.819498</td>\n",
       "      <td>6.628495</td>\n",
       "      <td>0</td>\n",
       "      <td>1</td>\n",
       "      <td>2</td>\n",
       "      <td>1</td>\n",
       "    </tr>\n",
       "    <tr>\n",
       "      <th>3</th>\n",
       "      <td>7</td>\n",
       "      <td>6.0</td>\n",
       "      <td>VICTORY MAGIC</td>\n",
       "      <td>T272</td>\n",
       "      <td>J Moreira</td>\n",
       "      <td>J Moore</td>\n",
       "      <td>122</td>\n",
       "      <td>1154</td>\n",
       "      <td>1</td>\n",
       "      <td>3-1/2</td>\n",
       "      <td>...</td>\n",
       "      <td>\\n                DEEP THINKER was checked whe...</td>\n",
       "      <td>7</td>\n",
       "      <td>7.0</td>\n",
       "      <td>Spring</td>\n",
       "      <td>4.04498</td>\n",
       "      <td>5.861614</td>\n",
       "      <td>0</td>\n",
       "      <td>3</td>\n",
       "      <td>1</td>\n",
       "      <td>4</td>\n",
       "    </tr>\n",
       "    <tr>\n",
       "      <th>4</th>\n",
       "      <td>10</td>\n",
       "      <td>4.0</td>\n",
       "      <td>EXCITING DREAM</td>\n",
       "      <td>P191</td>\n",
       "      <td>H Bowman</td>\n",
       "      <td>J Moore</td>\n",
       "      <td>127</td>\n",
       "      <td>1079</td>\n",
       "      <td>1</td>\n",
       "      <td>4-3/4</td>\n",
       "      <td>...</td>\n",
       "      <td>\\n                DIVINE CALLING was withdrawn...</td>\n",
       "      <td>10</td>\n",
       "      <td>10.0</td>\n",
       "      <td>Winter</td>\n",
       "      <td>5.316456</td>\n",
       "      <td>5.861614</td>\n",
       "      <td>0</td>\n",
       "      <td>1</td>\n",
       "      <td>2</td>\n",
       "      <td>1</td>\n",
       "    </tr>\n",
       "  </tbody>\n",
       "</table>\n",
       "<p>5 rows × 39 columns</p>\n",
       "</div>"
      ]
     },
     "execution_count": 21,
     "metadata": {},
     "output_type": "execute_result"
    }
   ],
   "execution_count": 21
  },
  {
   "metadata": {
    "ExecuteTime": {
     "end_time": "2025-01-15T12:36:00.973687Z",
     "start_time": "2025-01-15T12:33:48.159968Z"
    }
   },
   "cell_type": "code",
   "source": [
    "# Assuming `df` is your pandas DataFrame\n",
    "profile = ProfileReport(df, title=\"Profiling Report\")\n",
    "profile.to_file(\"Analysis_report_all.html\")"
   ],
   "id": "c7b343a3ef95a73d",
   "outputs": [
    {
     "data": {
      "text/plain": [
       "Summarize dataset:   0%|          | 0/5 [00:00<?, ?it/s]"
      ],
      "application/vnd.jupyter.widget-view+json": {
       "version_major": 2,
       "version_minor": 0,
       "model_id": "a4cfd1fa27c543ffb95a87171d77c6b7"
      }
     },
     "metadata": {},
     "output_type": "display_data"
    },
    {
     "data": {
      "text/plain": [
       "Generate report structure:   0%|          | 0/1 [00:00<?, ?it/s]"
      ],
      "application/vnd.jupyter.widget-view+json": {
       "version_major": 2,
       "version_minor": 0,
       "model_id": "47c4f6bfe2804638a2257b8460d169cf"
      }
     },
     "metadata": {},
     "output_type": "display_data"
    },
    {
     "data": {
      "text/plain": [
       "Render HTML:   0%|          | 0/1 [00:00<?, ?it/s]"
      ],
      "application/vnd.jupyter.widget-view+json": {
       "version_major": 2,
       "version_minor": 0,
       "model_id": "1953ecb13e2d49ea8d6a55b65f0637ce"
      }
     },
     "metadata": {},
     "output_type": "display_data"
    },
    {
     "data": {
      "text/plain": [
       "Export report to file:   0%|          | 0/1 [00:00<?, ?it/s]"
      ],
      "application/vnd.jupyter.widget-view+json": {
       "version_major": 2,
       "version_minor": 0,
       "model_id": "aeeba60bbe364514a8b49a750f9cf24b"
      }
     },
     "metadata": {},
     "output_type": "display_data"
    }
   ],
   "execution_count": 22
  },
  {
   "metadata": {
    "ExecuteTime": {
     "end_time": "2025-01-15T12:36:17.477672Z",
     "start_time": "2025-01-15T12:36:17.419203Z"
    }
   },
   "cell_type": "code",
   "source": "df.info()",
   "id": "5c1e5f5e0f751e5a",
   "outputs": [
    {
     "name": "stdout",
     "output_type": "stream",
     "text": [
      "<class 'pandas.core.frame.DataFrame'>\n",
      "RangeIndex: 22236 entries, 0 to 22235\n",
      "Data columns (total 39 columns):\n",
      " #   Column                 Non-Null Count  Dtype         \n",
      "---  ------                 --------------  -----         \n",
      " 0   finishing_position     22236 non-null  object        \n",
      " 1   horse_number           22236 non-null  float64       \n",
      " 2   horse_name             22236 non-null  object        \n",
      " 3   horse_id               22236 non-null  object        \n",
      " 4   jockey                 22236 non-null  object        \n",
      " 5   trainer                22236 non-null  object        \n",
      " 6   actual_weight          22236 non-null  int64         \n",
      " 7   declared_horse_weight  22236 non-null  int64         \n",
      " 8   draw                   22236 non-null  object        \n",
      " 9   length_behind_winner   20338 non-null  object        \n",
      " 10  running_position_1     22236 non-null  float64       \n",
      " 11  running_position_2     22236 non-null  float64       \n",
      " 12  running_position_3     22236 non-null  float64       \n",
      " 13  running_position_4     12225 non-null  float64       \n",
      " 14  finish_time            22236 non-null  object        \n",
      " 15  win_odds               22236 non-null  object        \n",
      " 16  running_position_5     2801 non-null   float64       \n",
      " 17  running_position_6     424 non-null    float64       \n",
      " 18  race_id                22236 non-null  object        \n",
      " 19  src                    22236 non-null  object        \n",
      " 20  race_date              22236 non-null  datetime64[ns]\n",
      " 21  race_course            22236 non-null  object        \n",
      " 22  race_number            22236 non-null  int64         \n",
      " 23  race_class             22236 non-null  object        \n",
      " 24  race_distance          22236 non-null  int64         \n",
      " 25  track_condition        22236 non-null  object        \n",
      " 26  race_name              22236 non-null  object        \n",
      " 27  track                  22236 non-null  object        \n",
      " 28  sectional_time         22236 non-null  object        \n",
      " 29  incident_report        22236 non-null  object        \n",
      " 30  recent_6_runs          22236 non-null  object        \n",
      " 31  recent_ave_rank        22236 non-null  float64       \n",
      " 32  Season                 22236 non-null  object        \n",
      " 33  jockey_ave_rank        22236 non-null  object        \n",
      " 34  trainer_ave_rank       22236 non-null  object        \n",
      " 35  race_course_id         22236 non-null  int64         \n",
      " 36  track_id               22236 non-null  int64         \n",
      " 37  season_id              22236 non-null  int64         \n",
      " 38  track_condition_id     22236 non-null  int64         \n",
      "dtypes: datetime64[ns](1), float64(8), int64(8), object(22)\n",
      "memory usage: 6.6+ MB\n"
     ]
    }
   ],
   "execution_count": 23
  },
  {
   "metadata": {
    "ExecuteTime": {
     "end_time": "2025-01-15T12:36:26.740895Z",
     "start_time": "2025-01-15T12:36:24.381938Z"
    }
   },
   "cell_type": "code",
   "source": "df.to_csv('./data/new_train.csv', index=False)",
   "id": "bd1b69a629442c65",
   "outputs": [],
   "execution_count": 24
  },
  {
   "metadata": {},
   "cell_type": "markdown",
   "source": "Advance_EDA",
   "id": "cc82b0ff0da8b6ee"
  },
  {
   "metadata": {
    "ExecuteTime": {
     "end_time": "2025-01-15T12:36:35.288437Z",
     "start_time": "2025-01-15T12:36:34.805161Z"
    }
   },
   "cell_type": "code",
   "source": [
    "# Draw the mean of a horse weight on same plot\n",
    "# Draw the mean of a horse weight on same plot\n",
    "plt.figure(figsize=(12, 8))\n",
    "sns.distplot(df['declared_horse_weight'], bins=100, kde=False)\n",
    "plt.title(\"Distribution of a horse weight\")\n",
    "plt.xlabel(\"Weight\")\n",
    "plt.ylabel(\"Count\")\n",
    "plt.axvline(df['declared_horse_weight'].mean(), color='r', linestyle='dashed', linewidth=2)\n",
    "\n",
    "plt.show()"
   ],
   "id": "65d6379e9ff5461b",
   "outputs": [
    {
     "data": {
      "text/plain": [
       "<Figure size 1200x800 with 1 Axes>"
      ],
      "image/png": "[encoded data removed]"
     },
     "metadata": {},
     "output_type": "display_data"
    }
   ],
   "execution_count": 25
  },
  {
   "metadata": {},
   "cell_type": "code",
   "outputs": [],
   "execution_count": null,
   "source": "",
   "id": "6ff92c6b4fab879f"
  }
 ],
 "metadata": {
  "kernelspec": {
   "display_name": "horse",
   "language": "python",
   "name": "horse"
  },
  "language_info": {
   "codemirror_mode": {
    "name": "ipython",
    "version": 2
   },
   "file_extension": ".py",
   "mimetype": "text/x-python",
   "name": "python",
   "nbconvert_exporter": "python",
   "pygments_lexer": "ipython2",
   "version": "2.7.6"
  }
 },
 "nbformat": 4,
 "nbformat_minor": 5
}
