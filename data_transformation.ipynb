{
 "cells": [
  {
   "cell_type": "code",
   "id": "initial_id",
   "metadata": {
    "collapsed": true,
    "ExecuteTime": {
     "end_time": "2025-01-12T10:08:14.691422Z",
     "start_time": "2025-01-12T10:08:14.408095Z"
    }
   },
   "source": [
    "from xml.etree.ElementInclude import include\n",
    "\n",
    "import pandas as pd\n"
   ],
   "outputs": [],
   "execution_count": 1
  },
  {
   "metadata": {
    "ExecuteTime": {
     "end_time": "2025-01-12T10:08:15.203510Z",
     "start_time": "2025-01-12T10:08:14.695288Z"
    }
   },
   "cell_type": "code",
   "source": "df = pd.read_csv(\"./data/complete_data.csv\")",
   "id": "82f782d771d958b3",
   "outputs": [],
   "execution_count": 2
  },
  {
   "metadata": {
    "ExecuteTime": {
     "end_time": "2025-01-12T10:08:15.300755Z",
     "start_time": "2025-01-12T10:08:15.294559Z"
    }
   },
   "cell_type": "code",
   "source": "new_df = df.copy()",
   "id": "4c24388c0f5e205b",
   "outputs": [],
   "execution_count": 3
  },
  {
   "metadata": {
    "ExecuteTime": {
     "end_time": "2025-01-12T10:08:15.663331Z",
     "start_time": "2025-01-12T10:08:15.644891Z"
    }
   },
   "cell_type": "code",
   "source": "new_df.shape",
   "id": "3271fab75f9f5238",
   "outputs": [
    {
     "data": {
      "text/plain": [
       "(30189, 31)"
      ]
     },
     "execution_count": 4,
     "metadata": {},
     "output_type": "execute_result"
    }
   ],
   "execution_count": 4
  },
  {
   "metadata": {
    "ExecuteTime": {
     "end_time": "2025-01-12T10:31:33.282946Z",
     "start_time": "2025-01-12T10:31:33.243976Z"
    }
   },
   "cell_type": "code",
   "source": "new_df.info()",
   "id": "8bbf644a5334aa60",
   "outputs": [
    {
     "name": "stdout",
     "output_type": "stream",
     "text": [
      "<class 'pandas.core.frame.DataFrame'>\n",
      "RangeIndex: 30189 entries, 0 to 30188\n",
      "Data columns (total 31 columns):\n",
      " #   Column                 Non-Null Count  Dtype  \n",
      "---  ------                 --------------  -----  \n",
      " 0   finishing_position     30187 non-null  object \n",
      " 1   horse_number           29851 non-null  float64\n",
      " 2   horse_name             30189 non-null  object \n",
      " 3   horse_id               30189 non-null  object \n",
      " 4   jockey                 30189 non-null  object \n",
      " 5   trainer                30189 non-null  object \n",
      " 6   actual_weight          30189 non-null  object \n",
      " 7   declared_horse_weight  30189 non-null  object \n",
      " 8   draw                   30189 non-null  object \n",
      " 9   length_behind_winner   30189 non-null  object \n",
      " 10  running_position_1     29574 non-null  float64\n",
      " 11  running_position_2     29560 non-null  float64\n",
      " 12  running_position_3     29542 non-null  float64\n",
      " 13  running_position_4     16618 non-null  float64\n",
      " 14  finish_time            30189 non-null  object \n",
      " 15  win_odds               30189 non-null  object \n",
      " 16  running_position_5     3764 non-null   float64\n",
      " 17  running_position_6     549 non-null    float64\n",
      " 18  race_id                30189 non-null  object \n",
      " 19  src                    30189 non-null  object \n",
      " 20  race_date              30189 non-null  object \n",
      " 21  race_course            30189 non-null  object \n",
      " 22  race_number            30189 non-null  int64  \n",
      " 23  race_class             30189 non-null  object \n",
      " 24  race_distance          30189 non-null  int64  \n",
      " 25  track_condition        30189 non-null  object \n",
      " 26  race_name              30189 non-null  object \n",
      " 27  track                  30189 non-null  object \n",
      " 28  sectional_time         30189 non-null  object \n",
      " 29  incident_report        30189 non-null  object \n",
      " 30  Season                 30189 non-null  object \n",
      "dtypes: float64(7), int64(2), object(22)\n",
      "memory usage: 7.1+ MB\n"
     ]
    }
   ],
   "execution_count": 10
  },
  {
   "metadata": {
    "ExecuteTime": {
     "end_time": "2025-01-12T10:08:17.175388Z",
     "start_time": "2025-01-12T10:08:17.134865Z"
    }
   },
   "cell_type": "code",
   "source": "new_df.isnull().sum()",
   "id": "168fe5f60bb3bf06",
   "outputs": [
    {
     "data": {
      "text/plain": [
       "finishing_position           2\n",
       "horse_number               338\n",
       "horse_name                   0\n",
       "horse_id                     0\n",
       "jockey                       0\n",
       "trainer                      0\n",
       "actual_weight                0\n",
       "declared_horse_weight        0\n",
       "draw                         0\n",
       "length_behind_winner         0\n",
       "running_position_1         615\n",
       "running_position_2         629\n",
       "running_position_3         647\n",
       "running_position_4       13571\n",
       "finish_time                  0\n",
       "win_odds                     0\n",
       "running_position_5       26425\n",
       "running_position_6       29640\n",
       "race_id                      0\n",
       "src                          0\n",
       "race_date                    0\n",
       "race_course                  0\n",
       "race_number                  0\n",
       "race_class                   0\n",
       "race_distance                0\n",
       "track_condition              0\n",
       "race_name                    0\n",
       "track                        0\n",
       "sectional_time               0\n",
       "incident_report              0\n",
       "Season                       0\n",
       "dtype: int64"
      ]
     },
     "execution_count": 5,
     "metadata": {},
     "output_type": "execute_result"
    }
   ],
   "execution_count": 5
  },
  {
   "metadata": {
    "ExecuteTime": {
     "end_time": "2025-01-12T10:08:18.481946Z",
     "start_time": "2025-01-12T10:08:18.467987Z"
    }
   },
   "cell_type": "code",
   "source": "new_df[new_df[\"finishing_position\"].isnull()]",
   "id": "347a7133d8fb5d63",
   "outputs": [
    {
     "data": {
      "text/plain": [
       "      finishing_position  horse_number       horse_name horse_id jockey  \\\n",
       "11053                NaN           NaN  SILVER BAUHINIA     T044    ---   \n",
       "17242                NaN           NaN       GREEN CARD     V126    ---   \n",
       "\n",
       "        trainer actual_weight declared_horse_weight draw length_behind_winner  \\\n",
       "11053  Y S Tsui             -                  1138  ---                  ---   \n",
       "17242   J Moore             -                  1169  ---                  ---   \n",
       "\n",
       "       ...   race_course  race_number  race_class  race_distance  \\\n",
       "11053  ...  Happy Valley            5     Class 4           1200   \n",
       "17242  ...       Sha Tin            5     Class 3           1200   \n",
       "\n",
       "        track_condition                                          race_name  \\\n",
       "11053  GOOD TO YIELDING                                      PINE HANDICAP   \n",
       "17242      GOOD TO FIRM  THE HONG KONG JOCKEY CLUB COMMUNITY TROPHY (HA...   \n",
       "\n",
       "                     track     sectional_time  \\\n",
       "11053    TURF - \"A\" COURSE  23.47 22.92 24.77   \n",
       "17242  TURF - \"C+3\" COURSE  23.92 22.68 22.33   \n",
       "\n",
       "                                         incident_report  Season  \n",
       "11053  \\n                On arrival at the Start, TRE...  Autumn  \n",
       "17242  \\n                WONDERFUL JOURNEY, which was...  Spring  \n",
       "\n",
       "[2 rows x 31 columns]"
      ],
      "text/html": [
       "<div>\n",
       "<style scoped>\n",
       "    .dataframe tbody tr th:only-of-type {\n",
       "        vertical-align: middle;\n",
       "    }\n",
       "\n",
       "    .dataframe tbody tr th {\n",
       "        vertical-align: top;\n",
       "    }\n",
       "\n",
       "    .dataframe thead th {\n",
       "        text-align: right;\n",
       "    }\n",
       "</style>\n",
       "<table border=\"1\" class=\"dataframe\">\n",
       "  <thead>\n",
       "    <tr style=\"text-align: right;\">\n",
       "      <th></th>\n",
       "      <th>finishing_position</th>\n",
       "      <th>horse_number</th>\n",
       "      <th>horse_name</th>\n",
       "      <th>horse_id</th>\n",
       "      <th>jockey</th>\n",
       "      <th>trainer</th>\n",
       "      <th>actual_weight</th>\n",
       "      <th>declared_horse_weight</th>\n",
       "      <th>draw</th>\n",
       "      <th>length_behind_winner</th>\n",
       "      <th>...</th>\n",
       "      <th>race_course</th>\n",
       "      <th>race_number</th>\n",
       "      <th>race_class</th>\n",
       "      <th>race_distance</th>\n",
       "      <th>track_condition</th>\n",
       "      <th>race_name</th>\n",
       "      <th>track</th>\n",
       "      <th>sectional_time</th>\n",
       "      <th>incident_report</th>\n",
       "      <th>Season</th>\n",
       "    </tr>\n",
       "  </thead>\n",
       "  <tbody>\n",
       "    <tr>\n",
       "      <th>11053</th>\n",
       "      <td>NaN</td>\n",
       "      <td>NaN</td>\n",
       "      <td>SILVER BAUHINIA</td>\n",
       "      <td>T044</td>\n",
       "      <td>---</td>\n",
       "      <td>Y S Tsui</td>\n",
       "      <td>-</td>\n",
       "      <td>1138</td>\n",
       "      <td>---</td>\n",
       "      <td>---</td>\n",
       "      <td>...</td>\n",
       "      <td>Happy Valley</td>\n",
       "      <td>5</td>\n",
       "      <td>Class 4</td>\n",
       "      <td>1200</td>\n",
       "      <td>GOOD TO YIELDING</td>\n",
       "      <td>PINE HANDICAP</td>\n",
       "      <td>TURF - \"A\" COURSE</td>\n",
       "      <td>23.47 22.92 24.77</td>\n",
       "      <td>\\n                On arrival at the Start, TRE...</td>\n",
       "      <td>Autumn</td>\n",
       "    </tr>\n",
       "    <tr>\n",
       "      <th>17242</th>\n",
       "      <td>NaN</td>\n",
       "      <td>NaN</td>\n",
       "      <td>GREEN CARD</td>\n",
       "      <td>V126</td>\n",
       "      <td>---</td>\n",
       "      <td>J Moore</td>\n",
       "      <td>-</td>\n",
       "      <td>1169</td>\n",
       "      <td>---</td>\n",
       "      <td>---</td>\n",
       "      <td>...</td>\n",
       "      <td>Sha Tin</td>\n",
       "      <td>5</td>\n",
       "      <td>Class 3</td>\n",
       "      <td>1200</td>\n",
       "      <td>GOOD TO FIRM</td>\n",
       "      <td>THE HONG KONG JOCKEY CLUB COMMUNITY TROPHY (HA...</td>\n",
       "      <td>TURF - \"C+3\" COURSE</td>\n",
       "      <td>23.92 22.68 22.33</td>\n",
       "      <td>\\n                WONDERFUL JOURNEY, which was...</td>\n",
       "      <td>Spring</td>\n",
       "    </tr>\n",
       "  </tbody>\n",
       "</table>\n",
       "<p>2 rows × 31 columns</p>\n",
       "</div>"
      ]
     },
     "execution_count": 6,
     "metadata": {},
     "output_type": "execute_result"
    }
   ],
   "execution_count": 6
  },
  {
   "metadata": {},
   "cell_type": "markdown",
   "source": "In finishing_position we have some position which are no properly writen (\"1 DH\", \"2 DH\", etc.,) we replace them with there real positions and remove those races where horses are not able to complete or participate in the race there are some NaN values also we are going to replace\n",
   "id": "f32962dca64b09f9"
  },
  {
   "metadata": {
    "ExecuteTime": {
     "end_time": "2025-01-12T10:45:46.360322Z",
     "start_time": "2025-01-12T10:45:46.334335Z"
    }
   },
   "cell_type": "code",
   "source": [
    "# Replace \"1 DH\" to \"1\", \"2 DH\" to \"2\", etc.\n",
    "new_df['finishing_position'] = new_df['finishing_position'].replace({\n",
    "    \"1 DH\": \"1\", \"2 DH\": \"2\", \"3 DH\": \"3\", \"4 DH\": \"4\",\n",
    "    \"5 DH\": \"5\", \"6 DH\": \"6\", \"7 DH\": \"7\", \"8 DH\": \"8\",\n",
    "    \"9 DH\": \"9\", \"10 DH\": \"10\", \"11 DH\": \"11\", \"12 DH\": \"12\"\n",
    "})"
   ],
   "id": "78859958bb269650",
   "outputs": [],
   "execution_count": 11
  },
  {
   "metadata": {
    "ExecuteTime": {
     "end_time": "2025-01-12T10:49:07.590733Z",
     "start_time": "2025-01-12T10:49:07.557192Z"
    }
   },
   "cell_type": "code",
   "source": [
    "# Drop rows in column where value is not a number\n",
    "new_df = new_df[new_df['finishing_position'].isin([str(i) for i in range(1, 13)])].reset_index(drop=True)"
   ],
   "id": "ce9fc42e18679cc7",
   "outputs": [],
   "execution_count": 14
  },
  {
   "metadata": {
    "ExecuteTime": {
     "end_time": "2025-01-12T10:50:31.296743Z",
     "start_time": "2025-01-12T10:50:31.292003Z"
    }
   },
   "cell_type": "code",
   "source": "new_df.shape\n",
   "id": "a23ee10592d4e012",
   "outputs": [
    {
     "data": {
      "text/plain": [
       "(27686, 31)"
      ]
     },
     "execution_count": 17,
     "metadata": {},
     "output_type": "execute_result"
    }
   ],
   "execution_count": 17
  },
  {
   "metadata": {},
   "cell_type": "markdown",
   "source": "There are some empty rows and columns with value \"---\",'-', We replace them with NAN",
   "id": "21f4821a67733f5"
  },
  {
   "metadata": {
    "ExecuteTime": {
     "end_time": "2025-01-12T10:51:14.995274Z",
     "start_time": "2025-01-12T10:51:14.931804Z"
    }
   },
   "cell_type": "code",
   "source": "new_df.replace(\"---\",\"NaN\",inplace=True)",
   "id": "fb5c5c90305b5032",
   "outputs": [],
   "execution_count": 18
  },
  {
   "metadata": {
    "ExecuteTime": {
     "end_time": "2025-01-12T10:51:16.539838Z",
     "start_time": "2025-01-12T10:51:16.488625Z"
    }
   },
   "cell_type": "code",
   "source": "new_df.replace(\"-\",\"NaN\",inplace=True)",
   "id": "1b59dacf5f0fd530",
   "outputs": [],
   "execution_count": 19
  },
  {
   "metadata": {},
   "cell_type": "markdown",
   "source": "missing values",
   "id": "4a84cc5769c7f1ab"
  },
  {
   "metadata": {
    "ExecuteTime": {
     "end_time": "2025-01-12T10:52:01.436113Z",
     "start_time": "2025-01-12T10:52:01.432410Z"
    }
   },
   "cell_type": "code",
   "source": "new_df.columns",
   "id": "f63d2becb7d118e",
   "outputs": [
    {
     "data": {
      "text/plain": [
       "Index(['finishing_position', 'horse_number', 'horse_name', 'horse_id',\n",
       "       'jockey', 'trainer', 'actual_weight', 'declared_horse_weight', 'draw',\n",
       "       'length_behind_winner', 'running_position_1', 'running_position_2',\n",
       "       'running_position_3', 'running_position_4', 'finish_time', 'win_odds',\n",
       "       'running_position_5', 'running_position_6', 'race_id', 'src',\n",
       "       'race_date', 'race_course', 'race_number', 'race_class',\n",
       "       'race_distance', 'track_condition', 'race_name', 'track',\n",
       "       'sectional_time', 'incident_report', 'Season'],\n",
       "      dtype='object')"
      ]
     },
     "execution_count": 20,
     "metadata": {},
     "output_type": "execute_result"
    }
   ],
   "execution_count": 20
  },
  {
   "metadata": {
    "ExecuteTime": {
     "end_time": "2025-01-12T10:53:35.013449Z",
     "start_time": "2025-01-12T10:53:34.930444Z"
    }
   },
   "cell_type": "code",
   "source": [
    "#check missing values again\n",
    "missing_data_check = new_df.isin(['NaN']) | new_df.isnull()\n",
    "\n",
    "# Summarize missing values\n",
    "missing_values_summary = missing_data_check.sum()"
   ],
   "id": "c27e160797d54054",
   "outputs": [],
   "execution_count": 23
  },
  {
   "metadata": {
    "ExecuteTime": {
     "end_time": "2025-01-12T10:54:14.233272Z",
     "start_time": "2025-01-12T10:54:14.228199Z"
    }
   },
   "cell_type": "code",
   "source": "print(missing_values_summary)",
   "id": "68813ed780ac04cc",
   "outputs": [
    {
     "name": "stdout",
     "output_type": "stream",
     "text": [
      "finishing_position           0\n",
      "horse_number                 0\n",
      "horse_name                   0\n",
      "horse_id                     0\n",
      "jockey                       0\n",
      "trainer                      0\n",
      "actual_weight                0\n",
      "declared_horse_weight        0\n",
      "draw                         0\n",
      "length_behind_winner      2373\n",
      "running_position_1           0\n",
      "running_position_2           0\n",
      "running_position_3           0\n",
      "running_position_4       12403\n",
      "finish_time                  0\n",
      "win_odds                     0\n",
      "running_position_5       24160\n",
      "running_position_6       27147\n",
      "race_id                      0\n",
      "src                          0\n",
      "race_date                    0\n",
      "race_course                  0\n",
      "race_number                  0\n",
      "race_class                   0\n",
      "race_distance                0\n",
      "track_condition              0\n",
      "race_name                    0\n",
      "track                        0\n",
      "sectional_time               0\n",
      "incident_report              0\n",
      "Season                       0\n",
      "dtype: int64\n"
     ]
    }
   ],
   "execution_count": 24
  },
  {
   "metadata": {},
   "cell_type": "markdown",
   "source": "Now we drop some columns which are not important now for this problem.",
   "id": "b20dd5b80201131d"
  },
  {
   "metadata": {
    "ExecuteTime": {
     "end_time": "2025-01-12T11:09:42.967003Z",
     "start_time": "2025-01-12T11:09:42.950203Z"
    }
   },
   "cell_type": "code",
   "source": [
    "columns_to_drop = ['horse_number','horse_id','finish_time',\n",
    "    'length_behind_winner', 'running_position_1', 'running_position_2',\n",
    "    'running_position_3', 'running_position_4', 'running_position_5',\n",
    "    'running_position_6', 'race_id', 'src', 'race_number', 'race_date','incident_report',\n",
    "    'sectional_time']\n",
    "\n",
    "new_df.drop(columns_to_drop, axis=1, inplace=True)"
   ],
   "id": "b113a35727d154a6",
   "outputs": [],
   "execution_count": 27
  },
  {
   "metadata": {
    "ExecuteTime": {
     "end_time": "2025-01-12T11:09:44.378773Z",
     "start_time": "2025-01-12T11:09:44.375410Z"
    }
   },
   "cell_type": "code",
   "source": "new_df.columns",
   "id": "89749d6b55c6ef42",
   "outputs": [
    {
     "data": {
      "text/plain": [
       "Index(['finishing_position', 'horse_name', 'jockey', 'trainer',\n",
       "       'actual_weight', 'declared_horse_weight', 'draw', 'win_odds',\n",
       "       'race_course', 'race_class', 'race_distance', 'track_condition',\n",
       "       'race_name', 'track', 'Season'],\n",
       "      dtype='object')"
      ]
     },
     "execution_count": 28,
     "metadata": {},
     "output_type": "execute_result"
    }
   ],
   "execution_count": 28
  },
  {
   "metadata": {
    "ExecuteTime": {
     "end_time": "2025-01-12T11:15:07.683462Z",
     "start_time": "2025-01-12T11:15:07.671654Z"
    }
   },
   "cell_type": "code",
   "source": "new_df.head()",
   "id": "25072403b2708275",
   "outputs": [
    {
     "data": {
      "text/plain": [
       "  finishing_position         horse_name     jockey       trainer  \\\n",
       "0                  1      DOUBLE DRAGON  B Prebble        D Cruz   \n",
       "1                  2  PLAIN BLUE BANNER    D Whyte  D E Ferraris   \n",
       "2                  3         GOLDWEAVER  Y T Cheng      Y S Tsui   \n",
       "3                  4     SUPREME PROFIT  J Moreira      C S Shum   \n",
       "4                  5       THE ONLY KID   Z Purton       K W Lui   \n",
       "\n",
       "  actual_weight declared_horse_weight draw win_odds race_course race_class  \\\n",
       "0           133                  1032    1      3.8     Sha Tin    Class 5   \n",
       "1           133                  1075   13        8     Sha Tin    Class 5   \n",
       "2           121                  1065    3      5.7     Sha Tin    Class 5   \n",
       "3           132                  1222    2      6.1     Sha Tin    Class 5   \n",
       "4           125                  1136    9      6.1     Sha Tin    Class 5   \n",
       "\n",
       "   race_distance track_condition        race_name              track  Season  \n",
       "0           1400    GOOD TO FIRM  TIM WA HANDICAP  TURF - \"A\" COURSE  Autumn  \n",
       "1           1400    GOOD TO FIRM  TIM WA HANDICAP  TURF - \"A\" COURSE  Autumn  \n",
       "2           1400    GOOD TO FIRM  TIM WA HANDICAP  TURF - \"A\" COURSE  Autumn  \n",
       "3           1400    GOOD TO FIRM  TIM WA HANDICAP  TURF - \"A\" COURSE  Autumn  \n",
       "4           1400    GOOD TO FIRM  TIM WA HANDICAP  TURF - \"A\" COURSE  Autumn  "
      ],
      "text/html": [
       "<div>\n",
       "<style scoped>\n",
       "    .dataframe tbody tr th:only-of-type {\n",
       "        vertical-align: middle;\n",
       "    }\n",
       "\n",
       "    .dataframe tbody tr th {\n",
       "        vertical-align: top;\n",
       "    }\n",
       "\n",
       "    .dataframe thead th {\n",
       "        text-align: right;\n",
       "    }\n",
       "</style>\n",
       "<table border=\"1\" class=\"dataframe\">\n",
       "  <thead>\n",
       "    <tr style=\"text-align: right;\">\n",
       "      <th></th>\n",
       "      <th>finishing_position</th>\n",
       "      <th>horse_name</th>\n",
       "      <th>jockey</th>\n",
       "      <th>trainer</th>\n",
       "      <th>actual_weight</th>\n",
       "      <th>declared_horse_weight</th>\n",
       "      <th>draw</th>\n",
       "      <th>win_odds</th>\n",
       "      <th>race_course</th>\n",
       "      <th>race_class</th>\n",
       "      <th>race_distance</th>\n",
       "      <th>track_condition</th>\n",
       "      <th>race_name</th>\n",
       "      <th>track</th>\n",
       "      <th>Season</th>\n",
       "    </tr>\n",
       "  </thead>\n",
       "  <tbody>\n",
       "    <tr>\n",
       "      <th>0</th>\n",
       "      <td>1</td>\n",
       "      <td>DOUBLE DRAGON</td>\n",
       "      <td>B Prebble</td>\n",
       "      <td>D Cruz</td>\n",
       "      <td>133</td>\n",
       "      <td>1032</td>\n",
       "      <td>1</td>\n",
       "      <td>3.8</td>\n",
       "      <td>Sha Tin</td>\n",
       "      <td>Class 5</td>\n",
       "      <td>1400</td>\n",
       "      <td>GOOD TO FIRM</td>\n",
       "      <td>TIM WA HANDICAP</td>\n",
       "      <td>TURF - \"A\" COURSE</td>\n",
       "      <td>Autumn</td>\n",
       "    </tr>\n",
       "    <tr>\n",
       "      <th>1</th>\n",
       "      <td>2</td>\n",
       "      <td>PLAIN BLUE BANNER</td>\n",
       "      <td>D Whyte</td>\n",
       "      <td>D E Ferraris</td>\n",
       "      <td>133</td>\n",
       "      <td>1075</td>\n",
       "      <td>13</td>\n",
       "      <td>8</td>\n",
       "      <td>Sha Tin</td>\n",
       "      <td>Class 5</td>\n",
       "      <td>1400</td>\n",
       "      <td>GOOD TO FIRM</td>\n",
       "      <td>TIM WA HANDICAP</td>\n",
       "      <td>TURF - \"A\" COURSE</td>\n",
       "      <td>Autumn</td>\n",
       "    </tr>\n",
       "    <tr>\n",
       "      <th>2</th>\n",
       "      <td>3</td>\n",
       "      <td>GOLDWEAVER</td>\n",
       "      <td>Y T Cheng</td>\n",
       "      <td>Y S Tsui</td>\n",
       "      <td>121</td>\n",
       "      <td>1065</td>\n",
       "      <td>3</td>\n",
       "      <td>5.7</td>\n",
       "      <td>Sha Tin</td>\n",
       "      <td>Class 5</td>\n",
       "      <td>1400</td>\n",
       "      <td>GOOD TO FIRM</td>\n",
       "      <td>TIM WA HANDICAP</td>\n",
       "      <td>TURF - \"A\" COURSE</td>\n",
       "      <td>Autumn</td>\n",
       "    </tr>\n",
       "    <tr>\n",
       "      <th>3</th>\n",
       "      <td>4</td>\n",
       "      <td>SUPREME PROFIT</td>\n",
       "      <td>J Moreira</td>\n",
       "      <td>C S Shum</td>\n",
       "      <td>132</td>\n",
       "      <td>1222</td>\n",
       "      <td>2</td>\n",
       "      <td>6.1</td>\n",
       "      <td>Sha Tin</td>\n",
       "      <td>Class 5</td>\n",
       "      <td>1400</td>\n",
       "      <td>GOOD TO FIRM</td>\n",
       "      <td>TIM WA HANDICAP</td>\n",
       "      <td>TURF - \"A\" COURSE</td>\n",
       "      <td>Autumn</td>\n",
       "    </tr>\n",
       "    <tr>\n",
       "      <th>4</th>\n",
       "      <td>5</td>\n",
       "      <td>THE ONLY KID</td>\n",
       "      <td>Z Purton</td>\n",
       "      <td>K W Lui</td>\n",
       "      <td>125</td>\n",
       "      <td>1136</td>\n",
       "      <td>9</td>\n",
       "      <td>6.1</td>\n",
       "      <td>Sha Tin</td>\n",
       "      <td>Class 5</td>\n",
       "      <td>1400</td>\n",
       "      <td>GOOD TO FIRM</td>\n",
       "      <td>TIM WA HANDICAP</td>\n",
       "      <td>TURF - \"A\" COURSE</td>\n",
       "      <td>Autumn</td>\n",
       "    </tr>\n",
       "  </tbody>\n",
       "</table>\n",
       "</div>"
      ]
     },
     "execution_count": 34,
     "metadata": {},
     "output_type": "execute_result"
    }
   ],
   "execution_count": 34
  },
  {
   "metadata": {
    "ExecuteTime": {
     "end_time": "2025-01-12T11:33:16.235609Z",
     "start_time": "2025-01-12T11:33:16.228465Z"
    }
   },
   "cell_type": "code",
   "source": "new_df.horse_name.value_counts()",
   "id": "ba629df53143e844",
   "outputs": [
    {
     "data": {
      "text/plain": [
       "horse_name\n",
       "SWEET BEAN           47\n",
       "ROCK THE TREE        47\n",
       "ST YAZIN             46\n",
       "INDUSTRIALIST WAY    46\n",
       "VARA PEARL           45\n",
       "                     ..\n",
       "LEISURED FEET         1\n",
       "THE LEGEND            1\n",
       "LUCKY TIME            1\n",
       "SHALLUCK              1\n",
       "LITTLE WIND           1\n",
       "Name: count, Length: 2112, dtype: int64"
      ]
     },
     "execution_count": 47,
     "metadata": {},
     "output_type": "execute_result"
    }
   ],
   "execution_count": 47
  },
  {
   "metadata": {
    "ExecuteTime": {
     "end_time": "2025-01-12T11:34:18.419820Z",
     "start_time": "2025-01-12T11:34:18.414068Z"
    }
   },
   "cell_type": "code",
   "source": "new_df.jockey.value_counts()",
   "id": "bfdb7b17b9379f92",
   "outputs": [
    {
     "data": {
      "text/plain": [
       "jockey\n",
       "J Moreira     1931\n",
       "K Teetan      1652\n",
       "Z Purton      1559\n",
       "D Whyte       1537\n",
       "N Callan      1497\n",
       "              ... \n",
       "B Vorster        1\n",
       "C Perkins        1\n",
       "D O'Brien        1\n",
       "Y Kawada         1\n",
       "R Curatolo       1\n",
       "Name: count, Length: 103, dtype: int64"
      ]
     },
     "execution_count": 51,
     "metadata": {},
     "output_type": "execute_result"
    }
   ],
   "execution_count": 51
  },
  {
   "metadata": {
    "ExecuteTime": {
     "end_time": "2025-01-12T11:35:02.743804Z",
     "start_time": "2025-01-12T11:35:02.736015Z"
    }
   },
   "cell_type": "code",
   "source": "new_df.trainer.value_counts()",
   "id": "79f8e9a1a435ab02",
   "outputs": [
    {
     "data": {
      "text/plain": [
       "trainer\n",
       "A S Cruz       1629\n",
       "C H Yip        1572\n",
       "C Fownes       1569\n",
       "J Moore        1548\n",
       "Y S Tsui       1506\n",
       "               ... \n",
       "J M Moore         1\n",
       "W H Tse           1\n",
       "R Hickmott        1\n",
       "G Bietolini       1\n",
       "Ed Walker         1\n",
       "Name: count, Length: 87, dtype: int64"
      ]
     },
     "execution_count": 52,
     "metadata": {},
     "output_type": "execute_result"
    }
   ],
   "execution_count": 52
  },
  {
   "metadata": {
    "ExecuteTime": {
     "end_time": "2025-01-12T11:15:54.145824Z",
     "start_time": "2025-01-12T11:15:54.136031Z"
    }
   },
   "cell_type": "code",
   "source": "new_df.race_course.unique()",
   "id": "203436c0681abd21",
   "outputs": [
    {
     "data": {
      "text/plain": [
       "array(['Sha Tin', 'Happy Valley'], dtype=object)"
      ]
     },
     "execution_count": 36,
     "metadata": {},
     "output_type": "execute_result"
    }
   ],
   "execution_count": 36
  },
  {
   "metadata": {
    "ExecuteTime": {
     "end_time": "2025-01-12T11:16:07.456636Z",
     "start_time": "2025-01-12T11:16:07.448297Z"
    }
   },
   "cell_type": "code",
   "source": "new_df.race_class.unique()",
   "id": "bc2648ef976a1b17",
   "outputs": [
    {
     "data": {
      "text/plain": [
       "array(['Class 5', 'Class 2', 'Class 1', 'Class 4', 'Class 3',\n",
       "       'Hong Kong Group Three', 'Class 4 (Restricted)',\n",
       "       'Hong Kong Group Two', 'Group Two', 'Group One', 'Restricted Race',\n",
       "       'Class 4 (Special Condition)', 'Hong Kong Group One',\n",
       "       'Griffin Race', 'Class 3 (Special Condition)', 'Group Three'],\n",
       "      dtype=object)"
      ]
     },
     "execution_count": 37,
     "metadata": {},
     "output_type": "execute_result"
    }
   ],
   "execution_count": 37
  },
  {
   "metadata": {
    "ExecuteTime": {
     "end_time": "2025-01-12T11:17:03.769284Z",
     "start_time": "2025-01-12T11:17:03.762947Z"
    }
   },
   "cell_type": "code",
   "source": "new_df.track_condition.unique()",
   "id": "9f9cb26da4625a4a",
   "outputs": [
    {
     "data": {
      "text/plain": [
       "array(['GOOD TO FIRM', 'WET FAST', 'GOOD', 'GOOD TO YIELDING', 'WET SLOW',\n",
       "       'FAST', 'YIELDING', 'YIELDING TO SOFT', 'SOFT'], dtype=object)"
      ]
     },
     "execution_count": 38,
     "metadata": {},
     "output_type": "execute_result"
    }
   ],
   "execution_count": 38
  },
  {
   "metadata": {
    "ExecuteTime": {
     "end_time": "2025-01-12T11:17:51.176514Z",
     "start_time": "2025-01-12T11:17:51.168731Z"
    }
   },
   "cell_type": "code",
   "source": "new_df.race_name.unique()",
   "id": "a4602d050de0f476",
   "outputs": [
    {
     "data": {
      "text/plain": [
       "array(['TIM WA HANDICAP', 'COTTON TREE HANDICAP', 'TIM MEI HANDICAP', ...,\n",
       "       'CONTINUOUS DEVELOPMENT HANDICAP', 'CHAI WAN ROAD PLATE',\n",
       "       'MEDIC KINGDOM HANDICAP'], dtype=object)"
      ]
     },
     "execution_count": 39,
     "metadata": {},
     "output_type": "execute_result"
    }
   ],
   "execution_count": 39
  },
  {
   "metadata": {
    "ExecuteTime": {
     "end_time": "2025-01-12T11:18:31.240168Z",
     "start_time": "2025-01-12T11:18:31.233769Z"
    }
   },
   "cell_type": "code",
   "source": "new_df.track.unique()",
   "id": "7b32330a898f4e53",
   "outputs": [
    {
     "data": {
      "text/plain": [
       "array(['TURF - \"A\" COURSE', 'ALL WEATHER TRACK', 'TURF - \"A+3\" COURSE',\n",
       "       'TURF - \"B+2\" COURSE', 'TURF - \"C\" COURSE', 'TURF - \"C+3\" COURSE',\n",
       "       'TURF - \"B\" COURSE'], dtype=object)"
      ]
     },
     "execution_count": 40,
     "metadata": {},
     "output_type": "execute_result"
    }
   ],
   "execution_count": 40
  },
  {
   "metadata": {
    "ExecuteTime": {
     "end_time": "2025-01-12T11:19:05.245348Z",
     "start_time": "2025-01-12T11:19:05.239422Z"
    }
   },
   "cell_type": "code",
   "source": "new_df.Season.unique()",
   "id": "6fe04e35d4b676d0",
   "outputs": [
    {
     "data": {
      "text/plain": [
       "array(['Autumn', 'Winter', 'Spring', 'Summer'], dtype=object)"
      ]
     },
     "execution_count": 42,
     "metadata": {},
     "output_type": "execute_result"
    }
   ],
   "execution_count": 42
  },
  {
   "metadata": {},
   "cell_type": "code",
   "outputs": [],
   "execution_count": null,
   "source": "",
   "id": "b8079964d1a6f00f"
  }
 ],
 "metadata": {
  "kernelspec": {
   "display_name": "horse",
   "language": "python",
   "name": "horse"
  },
  "language_info": {
   "codemirror_mode": {
    "name": "ipython",
    "version": 2
   },
   "file_extension": ".py",
   "mimetype": "text/x-python",
   "name": "python",
   "nbconvert_exporter": "python",
   "pygments_lexer": "ipython2",
   "version": "2.7.6"
  }
 },
 "nbformat": 4,
 "nbformat_minor": 5
}
