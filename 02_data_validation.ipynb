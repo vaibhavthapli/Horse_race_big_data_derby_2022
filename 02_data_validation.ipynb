{
 "cells": [
  {
   "cell_type": "code",
   "execution_count": null,
   "id": "initial_id",
   "metadata": {
    "collapsed": true
   },
   "outputs": [],
   "source": [
    ""
   ]
  },
  {
   "metadata": {
    "ExecuteTime": {
     "end_time": "2025-01-10T15:18:41.690382Z",
     "start_time": "2025-01-10T15:18:41.346950Z"
    }
   },
   "cell_type": "code",
   "source": [
    "import pandas as pd\n",
    "import warnings\n",
    "warnings.filterwarnings('ignore')"
   ],
   "id": "722adb8739d5c236",
   "outputs": [],
   "execution_count": 1
  },
  {
   "metadata": {
    "ExecuteTime": {
     "end_time": "2025-01-10T15:19:26.047057Z",
     "start_time": "2025-01-10T15:19:25.174091Z"
    }
   },
   "cell_type": "code",
   "source": [
    "df = pd.read_csv(\"./data/complete_data.csv\")\n",
    "df.head()"
   ],
   "id": "b8a1cac34282ce79",
   "outputs": [
    {
     "data": {
      "text/plain": [
       "  finishing_position  horse_number         horse_name horse_id     jockey  \\\n",
       "0                  1           1.0      DOUBLE DRAGON     K019  B Prebble   \n",
       "1                  2           2.0  PLAIN BLUE BANNER     S070    D Whyte   \n",
       "2                  3          10.0         GOLDWEAVER     P072  Y T Cheng   \n",
       "3                  4           3.0     SUPREME PROFIT     P230  J Moreira   \n",
       "4                  5           7.0       THE ONLY KID     H173   Z Purton   \n",
       "\n",
       "        trainer actual_weight declared_horse_weight draw length_behind_winner  \\\n",
       "0        D Cruz           133                  1032    1                    -   \n",
       "1  D E Ferraris           133                  1075   13                    2   \n",
       "2      Y S Tsui           121                  1065    3                    2   \n",
       "3      C S Shum           132                  1222    2                    2   \n",
       "4       K W Lui           125                  1136    9                4-1/4   \n",
       "\n",
       "   ...  race_course  race_number  race_class  race_distance track_condition  \\\n",
       "0  ...      Sha Tin            1     Class 5           1400    GOOD TO FIRM   \n",
       "1  ...      Sha Tin            1     Class 5           1400    GOOD TO FIRM   \n",
       "2  ...      Sha Tin            1     Class 5           1400    GOOD TO FIRM   \n",
       "3  ...      Sha Tin            1     Class 5           1400    GOOD TO FIRM   \n",
       "4  ...      Sha Tin            1     Class 5           1400    GOOD TO FIRM   \n",
       "\n",
       "         race_name              track           sectional_time  \\\n",
       "0  TIM WA HANDICAP  TURF - \"A\" COURSE  13.59 22.08 23.11 23.55   \n",
       "1  TIM WA HANDICAP  TURF - \"A\" COURSE  13.59 22.08 23.11 23.55   \n",
       "2  TIM WA HANDICAP  TURF - \"A\" COURSE  13.59 22.08 23.11 23.55   \n",
       "3  TIM WA HANDICAP  TURF - \"A\" COURSE  13.59 22.08 23.11 23.55   \n",
       "4  TIM WA HANDICAP  TURF - \"A\" COURSE  13.59 22.08 23.11 23.55   \n",
       "\n",
       "                                     incident_report  Season  \n",
       "0  \\n                When about to enter the trac...  Autumn  \n",
       "1  \\n                When about to enter the trac...  Autumn  \n",
       "2  \\n                When about to enter the trac...  Autumn  \n",
       "3  \\n                When about to enter the trac...  Autumn  \n",
       "4  \\n                When about to enter the trac...  Autumn  \n",
       "\n",
       "[5 rows x 31 columns]"
      ],
      "text/html": [
       "<div>\n",
       "<style scoped>\n",
       "    .dataframe tbody tr th:only-of-type {\n",
       "        vertical-align: middle;\n",
       "    }\n",
       "\n",
       "    .dataframe tbody tr th {\n",
       "        vertical-align: top;\n",
       "    }\n",
       "\n",
       "    .dataframe thead th {\n",
       "        text-align: right;\n",
       "    }\n",
       "</style>\n",
       "<table border=\"1\" class=\"dataframe\">\n",
       "  <thead>\n",
       "    <tr style=\"text-align: right;\">\n",
       "      <th></th>\n",
       "      <th>finishing_position</th>\n",
       "      <th>horse_number</th>\n",
       "      <th>horse_name</th>\n",
       "      <th>horse_id</th>\n",
       "      <th>jockey</th>\n",
       "      <th>trainer</th>\n",
       "      <th>actual_weight</th>\n",
       "      <th>declared_horse_weight</th>\n",
       "      <th>draw</th>\n",
       "      <th>length_behind_winner</th>\n",
       "      <th>...</th>\n",
       "      <th>race_course</th>\n",
       "      <th>race_number</th>\n",
       "      <th>race_class</th>\n",
       "      <th>race_distance</th>\n",
       "      <th>track_condition</th>\n",
       "      <th>race_name</th>\n",
       "      <th>track</th>\n",
       "      <th>sectional_time</th>\n",
       "      <th>incident_report</th>\n",
       "      <th>Season</th>\n",
       "    </tr>\n",
       "  </thead>\n",
       "  <tbody>\n",
       "    <tr>\n",
       "      <th>0</th>\n",
       "      <td>1</td>\n",
       "      <td>1.0</td>\n",
       "      <td>DOUBLE DRAGON</td>\n",
       "      <td>K019</td>\n",
       "      <td>B Prebble</td>\n",
       "      <td>D Cruz</td>\n",
       "      <td>133</td>\n",
       "      <td>1032</td>\n",
       "      <td>1</td>\n",
       "      <td>-</td>\n",
       "      <td>...</td>\n",
       "      <td>Sha Tin</td>\n",
       "      <td>1</td>\n",
       "      <td>Class 5</td>\n",
       "      <td>1400</td>\n",
       "      <td>GOOD TO FIRM</td>\n",
       "      <td>TIM WA HANDICAP</td>\n",
       "      <td>TURF - \"A\" COURSE</td>\n",
       "      <td>13.59 22.08 23.11 23.55</td>\n",
       "      <td>\\n                When about to enter the trac...</td>\n",
       "      <td>Autumn</td>\n",
       "    </tr>\n",
       "    <tr>\n",
       "      <th>1</th>\n",
       "      <td>2</td>\n",
       "      <td>2.0</td>\n",
       "      <td>PLAIN BLUE BANNER</td>\n",
       "      <td>S070</td>\n",
       "      <td>D Whyte</td>\n",
       "      <td>D E Ferraris</td>\n",
       "      <td>133</td>\n",
       "      <td>1075</td>\n",
       "      <td>13</td>\n",
       "      <td>2</td>\n",
       "      <td>...</td>\n",
       "      <td>Sha Tin</td>\n",
       "      <td>1</td>\n",
       "      <td>Class 5</td>\n",
       "      <td>1400</td>\n",
       "      <td>GOOD TO FIRM</td>\n",
       "      <td>TIM WA HANDICAP</td>\n",
       "      <td>TURF - \"A\" COURSE</td>\n",
       "      <td>13.59 22.08 23.11 23.55</td>\n",
       "      <td>\\n                When about to enter the trac...</td>\n",
       "      <td>Autumn</td>\n",
       "    </tr>\n",
       "    <tr>\n",
       "      <th>2</th>\n",
       "      <td>3</td>\n",
       "      <td>10.0</td>\n",
       "      <td>GOLDWEAVER</td>\n",
       "      <td>P072</td>\n",
       "      <td>Y T Cheng</td>\n",
       "      <td>Y S Tsui</td>\n",
       "      <td>121</td>\n",
       "      <td>1065</td>\n",
       "      <td>3</td>\n",
       "      <td>2</td>\n",
       "      <td>...</td>\n",
       "      <td>Sha Tin</td>\n",
       "      <td>1</td>\n",
       "      <td>Class 5</td>\n",
       "      <td>1400</td>\n",
       "      <td>GOOD TO FIRM</td>\n",
       "      <td>TIM WA HANDICAP</td>\n",
       "      <td>TURF - \"A\" COURSE</td>\n",
       "      <td>13.59 22.08 23.11 23.55</td>\n",
       "      <td>\\n                When about to enter the trac...</td>\n",
       "      <td>Autumn</td>\n",
       "    </tr>\n",
       "    <tr>\n",
       "      <th>3</th>\n",
       "      <td>4</td>\n",
       "      <td>3.0</td>\n",
       "      <td>SUPREME PROFIT</td>\n",
       "      <td>P230</td>\n",
       "      <td>J Moreira</td>\n",
       "      <td>C S Shum</td>\n",
       "      <td>132</td>\n",
       "      <td>1222</td>\n",
       "      <td>2</td>\n",
       "      <td>2</td>\n",
       "      <td>...</td>\n",
       "      <td>Sha Tin</td>\n",
       "      <td>1</td>\n",
       "      <td>Class 5</td>\n",
       "      <td>1400</td>\n",
       "      <td>GOOD TO FIRM</td>\n",
       "      <td>TIM WA HANDICAP</td>\n",
       "      <td>TURF - \"A\" COURSE</td>\n",
       "      <td>13.59 22.08 23.11 23.55</td>\n",
       "      <td>\\n                When about to enter the trac...</td>\n",
       "      <td>Autumn</td>\n",
       "    </tr>\n",
       "    <tr>\n",
       "      <th>4</th>\n",
       "      <td>5</td>\n",
       "      <td>7.0</td>\n",
       "      <td>THE ONLY KID</td>\n",
       "      <td>H173</td>\n",
       "      <td>Z Purton</td>\n",
       "      <td>K W Lui</td>\n",
       "      <td>125</td>\n",
       "      <td>1136</td>\n",
       "      <td>9</td>\n",
       "      <td>4-1/4</td>\n",
       "      <td>...</td>\n",
       "      <td>Sha Tin</td>\n",
       "      <td>1</td>\n",
       "      <td>Class 5</td>\n",
       "      <td>1400</td>\n",
       "      <td>GOOD TO FIRM</td>\n",
       "      <td>TIM WA HANDICAP</td>\n",
       "      <td>TURF - \"A\" COURSE</td>\n",
       "      <td>13.59 22.08 23.11 23.55</td>\n",
       "      <td>\\n                When about to enter the trac...</td>\n",
       "      <td>Autumn</td>\n",
       "    </tr>\n",
       "  </tbody>\n",
       "</table>\n",
       "<p>5 rows × 31 columns</p>\n",
       "</div>"
      ]
     },
     "execution_count": 3,
     "metadata": {},
     "output_type": "execute_result"
    }
   ],
   "execution_count": 3
  },
  {
   "metadata": {
    "ExecuteTime": {
     "end_time": "2025-01-10T15:19:34.349910Z",
     "start_time": "2025-01-10T15:19:34.282736Z"
    }
   },
   "cell_type": "code",
   "source": "df.info()",
   "id": "e792233b88f7d57",
   "outputs": [
    {
     "name": "stdout",
     "output_type": "stream",
     "text": [
      "<class 'pandas.core.frame.DataFrame'>\n",
      "RangeIndex: 30189 entries, 0 to 30188\n",
      "Data columns (total 31 columns):\n",
      " #   Column                 Non-Null Count  Dtype  \n",
      "---  ------                 --------------  -----  \n",
      " 0   finishing_position     30187 non-null  object \n",
      " 1   horse_number           29851 non-null  float64\n",
      " 2   horse_name             30189 non-null  object \n",
      " 3   horse_id               30189 non-null  object \n",
      " 4   jockey                 30189 non-null  object \n",
      " 5   trainer                30189 non-null  object \n",
      " 6   actual_weight          30189 non-null  object \n",
      " 7   declared_horse_weight  30189 non-null  object \n",
      " 8   draw                   30189 non-null  object \n",
      " 9   length_behind_winner   30189 non-null  object \n",
      " 10  running_position_1     29574 non-null  float64\n",
      " 11  running_position_2     29560 non-null  float64\n",
      " 12  running_position_3     29542 non-null  float64\n",
      " 13  running_position_4     16618 non-null  float64\n",
      " 14  finish_time            30189 non-null  object \n",
      " 15  win_odds               30189 non-null  object \n",
      " 16  running_position_5     3764 non-null   float64\n",
      " 17  running_position_6     549 non-null    float64\n",
      " 18  race_id                30189 non-null  object \n",
      " 19  src                    30189 non-null  object \n",
      " 20  race_date              30189 non-null  object \n",
      " 21  race_course            30189 non-null  object \n",
      " 22  race_number            30189 non-null  int64  \n",
      " 23  race_class             30189 non-null  object \n",
      " 24  race_distance          30189 non-null  int64  \n",
      " 25  track_condition        30189 non-null  object \n",
      " 26  race_name              30189 non-null  object \n",
      " 27  track                  30189 non-null  object \n",
      " 28  sectional_time         30189 non-null  object \n",
      " 29  incident_report        30189 non-null  object \n",
      " 30  Season                 30189 non-null  object \n",
      "dtypes: float64(7), int64(2), object(22)\n",
      "memory usage: 7.1+ MB\n"
     ]
    }
   ],
   "execution_count": 4
  },
  {
   "metadata": {
    "ExecuteTime": {
     "end_time": "2025-01-10T15:19:42.855407Z",
     "start_time": "2025-01-10T15:19:42.847631Z"
    }
   },
   "cell_type": "code",
   "source": "df.shape",
   "id": "c6d483ca3d50c0",
   "outputs": [
    {
     "data": {
      "text/plain": [
       "(30189, 31)"
      ]
     },
     "execution_count": 5,
     "metadata": {},
     "output_type": "execute_result"
    }
   ],
   "execution_count": 5
  },
  {
   "metadata": {
    "ExecuteTime": {
     "end_time": "2025-01-10T15:21:21.263118Z",
     "start_time": "2025-01-10T15:21:21.253958Z"
    }
   },
   "cell_type": "code",
   "source": "df['finishing_position'].unique()",
   "id": "cff545cf74af0513",
   "outputs": [
    {
     "data": {
      "text/plain": [
       "array(['1', '2', '3', '4', '5', '6', '7', '8', '9', '10', '11', '12',\n",
       "       '13', 'WV-A', '14', 'WV', '9 DH', '2 DH', 'WX', 'PU', '1 DH',\n",
       "       '8 DH', 'UR', 'FE', '4 DH', '10 DH', 'TNP', '5 DH', 'DISQ',\n",
       "       '11 DH', '12 DH', '3 DH', '7 DH', 'WX-A', 'DNF', '6 DH', nan],\n",
       "      dtype=object)"
      ]
     },
     "execution_count": 6,
     "metadata": {},
     "output_type": "execute_result"
    }
   ],
   "execution_count": 6
  },
  {
   "metadata": {},
   "cell_type": "markdown",
   "source": [
    "Numerical Positions\n",
    "\n",
    "    '1', '2', '3', ..., '14': These represent the finishing positions of horses in the race. For example:\n",
    "        '1': The horse that won the race.\n",
    "        '2': The horse that finished second (runner-up).\n",
    "        '3': The horse that finished third, and so on.\n",
    "\n",
    "Special Notations\n",
    "\n",
    "    'DH' (Dead Heat): This indicates that two or more horses finished exactly at the same position, and the judge could not separate them even with advanced photo finish technology.\n",
    "        '9 DH': Dead heat for 9th position.\n",
    "        '2 DH': Dead heat for 2nd position, etc.\n",
    "\n",
    "    'DISQ' (Disqualified): The horse was disqualified from the race due to a rule violation (e.g., interference, jockey misconduct).\n",
    "\n",
    "    'DNF' (Did Not Finish): The horse started the race but did not complete it, possibly due to injury, jockey fall, or other issues.\n",
    "\n",
    "    'WX' (Withdrawn): The horse was withdrawn from the race before it started due to reasons such as injury or illness.\n",
    "        'WX-A': Denotes an alternate or specific type of withdrawal.\n",
    "\n",
    "    'UR' (Unseated Rider): The jockey fell off the horse during the race, resulting in the horse not being officially placed.\n",
    "\n",
    "    'PU' (Pulled Up): The horse was pulled up by the jockey before completing the race, often due to safety concerns like fatigue or injury.\n",
    "\n",
    "Additional Specific Notations\n",
    "\n",
    "    'WV' (Weight Variation): The horse was scratched (removed from the race) due to a discrepancy in weight during pre-race inspections.\n",
    "        'WV-A': This could signify an alternative type of weight-related withdrawal.\n",
    "\n",
    "    'FE' (Failed to Enter): The horse failed to start the race due to a mishap during loading or other reasons.\n",
    "\n",
    "    'TNP' (Trainer Not Permitted): The horse was scratched because the trainer failed to comply with specific regulations.\n",
    "\n",
    "Summary of Unique Entries\n",
    "\n",
    "    Positions with Numbers ('1' to '14'): Normal finishing rankings.\n",
    "    Positions with 'DH': Dead Heat positions.\n",
    "    'DISQ', 'DNF', 'WX', 'UR', 'PU', 'FE', 'TNP': Represent non-standard outcomes or reasons why a horse did not finish."
   ],
   "id": "7289c044a68c6e97"
  },
  {
   "metadata": {
    "ExecuteTime": {
     "end_time": "2025-01-10T15:23:02.952784Z",
     "start_time": "2025-01-10T15:23:02.939595Z"
    }
   },
   "cell_type": "code",
   "source": "df['finishing_position'].value_counts()",
   "id": "250a05e8f64e1e6a",
   "outputs": [
    {
     "data": {
      "text/plain": [
       "finishing_position\n",
       "1        2361\n",
       "2        2354\n",
       "3        2350\n",
       "6        2346\n",
       "5        2341\n",
       "4        2340\n",
       "7        2339\n",
       "8        2329\n",
       "9        2305\n",
       "10       2260\n",
       "11       2186\n",
       "12       2020\n",
       "13        995\n",
       "14        838\n",
       "WV        461\n",
       "WV-A      102\n",
       "4 DH       35\n",
       "PU         29\n",
       "UR         26\n",
       "3 DH       20\n",
       "5 DH       18\n",
       "WX         16\n",
       "6 DH       14\n",
       "2 DH       14\n",
       "8 DH       12\n",
       "1 DH       12\n",
       "WX-A       10\n",
       "FE         10\n",
       "9 DH        8\n",
       "10 DH       8\n",
       "7 DH        8\n",
       "DNF         7\n",
       "TNP         6\n",
       "11 DH       4\n",
       "12 DH       2\n",
       "DISQ        1\n",
       "Name: count, dtype: int64"
      ]
     },
     "execution_count": 7,
     "metadata": {},
     "output_type": "execute_result"
    }
   ],
   "execution_count": 7
  },
  {
   "metadata": {
    "ExecuteTime": {
     "end_time": "2025-01-10T15:24:40.363092Z",
     "start_time": "2025-01-10T15:24:40.298826Z"
    }
   },
   "cell_type": "code",
   "source": "df.isnull().sum()",
   "id": "8215964dc12c2d45",
   "outputs": [
    {
     "data": {
      "text/plain": [
       "finishing_position           2\n",
       "horse_number               338\n",
       "horse_name                   0\n",
       "horse_id                     0\n",
       "jockey                       0\n",
       "trainer                      0\n",
       "actual_weight                0\n",
       "declared_horse_weight        0\n",
       "draw                         0\n",
       "length_behind_winner         0\n",
       "running_position_1         615\n",
       "running_position_2         629\n",
       "running_position_3         647\n",
       "running_position_4       13571\n",
       "finish_time                  0\n",
       "win_odds                     0\n",
       "running_position_5       26425\n",
       "running_position_6       29640\n",
       "race_id                      0\n",
       "src                          0\n",
       "race_date                    0\n",
       "race_course                  0\n",
       "race_number                  0\n",
       "race_class                   0\n",
       "race_distance                0\n",
       "track_condition              0\n",
       "race_name                    0\n",
       "track                        0\n",
       "sectional_time               0\n",
       "incident_report              0\n",
       "Season                       0\n",
       "dtype: int64"
      ]
     },
     "execution_count": 9,
     "metadata": {},
     "output_type": "execute_result"
    }
   ],
   "execution_count": 9
  },
  {
   "metadata": {},
   "cell_type": "code",
   "outputs": [],
   "execution_count": null,
   "source": "",
   "id": "6f0bf2babd51e7b4"
  }
 ],
 "metadata": {
  "kernelspec": {
   "display_name": "Python 3",
   "language": "python",
   "name": "python3"
  },
  "language_info": {
   "codemirror_mode": {
    "name": "ipython",
    "version": 2
   },
   "file_extension": ".py",
   "mimetype": "text/x-python",
   "name": "python",
   "nbconvert_exporter": "python",
   "pygments_lexer": "ipython2",
   "version": "2.7.6"
  }
 },
 "nbformat": 4,
 "nbformat_minor": 5
}
